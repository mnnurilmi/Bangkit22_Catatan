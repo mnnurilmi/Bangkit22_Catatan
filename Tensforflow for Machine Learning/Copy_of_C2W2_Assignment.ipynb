{
  "cells": [
    {
      "cell_type": "markdown",
      "metadata": {
        "id": "AuW-xg_bTsaF"
      },
      "source": [
        "# Week 2: Tackle Overfitting with Data Augmentation\n",
        "\n",
        "Welcome to this assignment! As in the previous week, you will be using the famous `cats vs dogs` dataset to train a model that can classify images of dogs from images of cats. For this, you will create your own Convolutional Neural Network in Tensorflow and leverage Keras' image preprocessing utilities, more so this time around since Keras provides excellent support for augmenting image data.\n",
        "\n",
        "You will also need to create the helper functions to move the images around the filesystem as you did last week, so if you need to refresh your memory with the `os` module be sure to take a look a the [docs](https://docs.python.org/3/library/os.html).\n",
        "\n",
        "Let's get started!"
      ]
    },
    {
      "cell_type": "code",
      "execution_count": 1,
      "metadata": {
        "id": "dn-6c02VmqiN"
      },
      "outputs": [],
      "source": [
        "import os\n",
        "import zipfile\n",
        "import random\n",
        "import shutil\n",
        "import tensorflow as tf\n",
        "from tensorflow.keras.preprocessing.image import ImageDataGenerator\n",
        "from shutil import copyfile\n",
        "import matplotlib.pyplot as plt"
      ]
    },
    {
      "cell_type": "markdown",
      "metadata": {
        "id": "bLTQd84RUs1j"
      },
      "source": [
        "Download the dataset from its original source by running the cell below. \n",
        "\n",
        "Note that the `zip` file that contains the images is unzipped under the `/tmp` directory."
      ]
    },
    {
      "cell_type": "code",
      "execution_count": 2,
      "metadata": {
        "id": "3sd9dQWa23aj",
        "lines_to_next_cell": 2,
        "colab": {
          "base_uri": "https://localhost:8080/"
        },
        "outputId": "701217ae-4923-475c-f7dc-6d8d2050f53d"
      },
      "outputs": [
        {
          "output_type": "stream",
          "name": "stdout",
          "text": [
            "--2022-04-08 16:18:50--  https://download.microsoft.com/download/3/E/1/3E1C3F21-ECDB-4869-8368-6DEBA77B919F/kagglecatsanddogs_3367a.zip\n",
            "Resolving download.microsoft.com (download.microsoft.com)... 23.72.44.106, 2600:1417:3f:1285::e59, 2600:1417:3f:128b::e59\n",
            "Connecting to download.microsoft.com (download.microsoft.com)|23.72.44.106|:443... connected.\n",
            "HTTP request sent, awaiting response... 200 OK\n",
            "Length: 824894548 (787M) [application/octet-stream]\n",
            "Saving to: ‘/tmp/cats-and-dogs.zip’\n",
            "\n",
            "/tmp/cats-and-dogs. 100%[===================>] 786.68M   142MB/s    in 5.5s    \n",
            "\n",
            "2022-04-08 16:18:55 (143 MB/s) - ‘/tmp/cats-and-dogs.zip’ saved [824894548/824894548]\n",
            "\n"
          ]
        }
      ],
      "source": [
        "# If the URL doesn't work, visit https://www.microsoft.com/en-us/download/confirmation.aspx?id=54765\n",
        "# And right click on the 'Download Manually' link to get a new URL to the dataset\n",
        "\n",
        "# Note: This is a very large dataset and will take some time to download\n",
        "\n",
        "!wget --no-check-certificate \\\n",
        "    \"https://download.microsoft.com/download/3/E/1/3E1C3F21-ECDB-4869-8368-6DEBA77B919F/kagglecatsanddogs_3367a.zip\" \\\n",
        "    -O \"/tmp/cats-and-dogs.zip\"\n",
        "\n",
        "local_zip = '/tmp/cats-and-dogs.zip'\n",
        "zip_ref   = zipfile.ZipFile(local_zip, 'r')\n",
        "zip_ref.extractall('/tmp')\n",
        "zip_ref.close()"
      ]
    },
    {
      "cell_type": "markdown",
      "metadata": {
        "id": "e_HsUV9WVJHL"
      },
      "source": [
        "Now the images are stored within the `/tmp/PetImages` directory. There is a subdirectory for each class, so one for dogs and one for cats."
      ]
    },
    {
      "cell_type": "code",
      "execution_count": 3,
      "metadata": {
        "id": "DM851ZmN28J3",
        "colab": {
          "base_uri": "https://localhost:8080/"
        },
        "outputId": "17155b6f-21d2-4a14-e5cf-4660b26c9489"
      },
      "outputs": [
        {
          "output_type": "stream",
          "name": "stdout",
          "text": [
            "There are 12501 images of dogs.\n",
            "There are 12501 images of cats.\n"
          ]
        }
      ],
      "source": [
        "source_path = '/tmp/PetImages'\n",
        "\n",
        "source_path_dogs = os.path.join(source_path, 'Dog')\n",
        "source_path_cats = os.path.join(source_path, 'Cat')\n",
        "\n",
        "\n",
        "# os.listdir returns a list containing all files under the given path\n",
        "print(f\"There are {len(os.listdir(source_path_dogs))} images of dogs.\")\n",
        "print(f\"There are {len(os.listdir(source_path_cats))} images of cats.\")"
      ]
    },
    {
      "cell_type": "markdown",
      "metadata": {
        "id": "G7dI86rmRGmC"
      },
      "source": [
        "**Expected Output:**\n",
        "\n",
        "```\n",
        "There are 12501 images of dogs.\n",
        "There are 12501 images of cats.\n",
        "```"
      ]
    },
    {
      "cell_type": "markdown",
      "metadata": {
        "id": "iFbMliudNIjW"
      },
      "source": [
        "You will need a directory for cats-v-dogs, and subdirectories for training\n",
        "and testing. These in turn will need subdirectories for 'cats' and 'dogs'. To accomplish this, complete the `create_train_test_dirs` below:"
      ]
    },
    {
      "cell_type": "code",
      "execution_count": 4,
      "metadata": {
        "cellView": "code",
        "id": "F-QkLjxpmyK2"
      },
      "outputs": [],
      "source": [
        "# Define root directory\n",
        "root_dir = '/tmp/cats-v-dogs'\n",
        "sub_dir = [\"training\",\"testing\"]\n",
        "root_sub_dir=[]\n",
        "sub_sub_dir=[\"cats\",\"dogs\"]\n",
        "\n",
        "# Empty directory to prevent FileExistsError is the function is run several times\n",
        "if os.path.exists(root_dir):\n",
        "  shutil.rmtree(root_dir)\n",
        "\n",
        "# GRADED FUNCTION: create_train_test_dirs\n",
        "def create_train_test_dirs(root_path):\n",
        "  ### START CODE HERE\n",
        "\n",
        "  # HINT:\n",
        "  # Use os.makedirs to create your directories with intermediate subdirectories\n",
        "  # Don't hardcode the paths. Use os.path.join to append the new directories to the root_path parameter\n",
        "\n",
        "  for x in sub_dir:\n",
        "    root_sub_dir.append(os.path.join(root_dir,x))\n",
        "  for x in root_sub_dir:\n",
        "    if os.path.exists(x):\n",
        "      shutil.rmtree(x)\n",
        "    os.makedirs(x)\n",
        "    for y in sub_sub_dir:\n",
        "        if os.path.exists(os.path.join(x,y)):\n",
        "          shutil.rmtree(os.path.join(x,y))\n",
        "        os.makedirs(os.path.join(x,y))\n",
        "  \n",
        "  ### END CODE HERE\n",
        "\n",
        "  \n",
        "try:\n",
        "  create_train_test_dirs(root_path=root_dir)\n",
        "except FileExistsError:\n",
        "  print(\"You should not be seeing this since the upper directory is removed beforehand\")"
      ]
    },
    {
      "cell_type": "code",
      "execution_count": 5,
      "metadata": {
        "id": "5dhtL344OK00",
        "colab": {
          "base_uri": "https://localhost:8080/"
        },
        "outputId": "bc5811a8-2edf-43ca-d0ec-1c7e294aaa5c"
      },
      "outputs": [
        {
          "output_type": "stream",
          "name": "stdout",
          "text": [
            "/tmp/cats-v-dogs/training\n",
            "/tmp/cats-v-dogs/testing\n",
            "/tmp/cats-v-dogs/training/cats\n",
            "/tmp/cats-v-dogs/training/dogs\n",
            "/tmp/cats-v-dogs/testing/cats\n",
            "/tmp/cats-v-dogs/testing/dogs\n"
          ]
        }
      ],
      "source": [
        "# Test your create_train_test_dirs function\n",
        "\n",
        "for rootdir, dirs, files in os.walk(root_dir):\n",
        "    for subdir in dirs:\n",
        "        print(os.path.join(rootdir, subdir))"
      ]
    },
    {
      "cell_type": "markdown",
      "metadata": {
        "id": "D7A0RK3IQsvg"
      },
      "source": [
        "**Expected Output (directory order might vary):**\n",
        "\n",
        "``` txt\n",
        "/tmp/cats-v-dogs/training\n",
        "/tmp/cats-v-dogs/testing\n",
        "/tmp/cats-v-dogs/training/cats\n",
        "/tmp/cats-v-dogs/training/dogs\n",
        "/tmp/cats-v-dogs/testing/cats\n",
        "/tmp/cats-v-dogs/testing/dogs\n",
        "\n",
        "```"
      ]
    },
    {
      "cell_type": "markdown",
      "metadata": {
        "id": "R93T7HdE5txZ"
      },
      "source": [
        "Code the `split_data` function which takes in the following arguments:\n",
        "- SOURCE: directory containing the files\n",
        "\n",
        "- TRAINING: directory that a portion of the files will be copied to (will be used for training)\n",
        "- TESTING: directory that a portion of the files will be copied to (will be used for testing)\n",
        "- SPLIT SIZE: to determine the portion\n",
        "\n",
        "The files should be randomized, so that the training set is a random sample of the files, and the test set is made up of the remaining files.\n",
        "\n",
        "For example, if `SOURCE` is `PetImages/Cat`, and `SPLIT` SIZE is .9 then 90% of the images in `PetImages/Cat` will be copied to the `TRAINING` dir\n",
        "and 10% of the images will be copied to the `TESTING` dir.\n",
        "\n",
        "All images should be checked before the copy, so if they have a zero file length, they will be omitted from the copying process. If this is the case then your function should print out a message such as `\"filename is zero length, so ignoring.\"`. **You should perform this check before the split so that only non-zero images are considered when doing the actual split.**\n",
        "\n",
        "\n",
        "Hints:\n",
        "\n",
        "- `os.listdir(DIRECTORY)` returns a list with the contents of that directory.\n",
        "\n",
        "- `os.path.getsize(PATH)` returns the size of the file\n",
        "\n",
        "- `copyfile(source, destination)` copies a file from source to destination\n",
        "\n",
        "- `random.sample(list, len(list))` shuffles a list"
      ]
    },
    {
      "cell_type": "code",
      "execution_count": 6,
      "metadata": {
        "cellView": "code",
        "id": "zvSODo0f9LaU"
      },
      "outputs": [],
      "source": [
        "# GRADED FUNCTION: split_data\n",
        "def split_data(SOURCE, TRAINING, TESTING, SPLIT_SIZE):\n",
        "  ### START CODE HERE\n",
        "  files=[]\n",
        "  for fname in os.listdir(SOURCE):\n",
        "    file = SOURCE+fname\n",
        "    if os.path.getsize(file)>0:\n",
        "      files.append(fname)\n",
        "    else:\n",
        "      print(fname+\" is zero length, so ignoring.\")\n",
        "  # print(files)\n",
        "  training_len = int(len(files)*SPLIT_SIZE)\n",
        "  testing_len = int(len(files) - training_len)\n",
        "  shuffled_files = random.sample(files,len(files))\n",
        "  training_after_split = shuffled_files[:training_len]\n",
        "  testing_after_split = shuffled_files[-testing_len:]\n",
        "\n",
        "  for fname in training_after_split:\n",
        "    src = SOURCE+fname\n",
        "    dst = TRAINING+fname\n",
        "    copyfile(src,dst)\n",
        "  for fname in testing_after_split:\n",
        "    src = SOURCE+fname\n",
        "    dst = TESTING+fname\n",
        "    copyfile(src,dst)\n",
        "  ### END CODE HERE\n"
      ]
    },
    {
      "cell_type": "code",
      "execution_count": 7,
      "metadata": {
        "id": "FlIdoUeX9S-9",
        "colab": {
          "base_uri": "https://localhost:8080/"
        },
        "outputId": "544dfa9e-db8e-4452-d3fd-f91635a0e282"
      },
      "outputs": [
        {
          "output_type": "stream",
          "name": "stdout",
          "text": [
            "666.jpg is zero length, so ignoring.\n",
            "11702.jpg is zero length, so ignoring.\n",
            "\n",
            "\n",
            "There are 11250 images of cats for training\n",
            "There are 11250 images of dogs for training\n",
            "There are 1250 images of cats for testing\n",
            "There are 1250 images of dogs for testing\n"
          ]
        }
      ],
      "source": [
        "# Test your split_data function\n",
        "\n",
        "# Define paths\n",
        "CAT_SOURCE_DIR = \"/tmp/PetImages/Cat/\"\n",
        "DOG_SOURCE_DIR = \"/tmp/PetImages/Dog/\"\n",
        "\n",
        "TRAINING_DIR = \"/tmp/cats-v-dogs/training/\"\n",
        "TESTING_DIR = \"/tmp/cats-v-dogs/testing/\"\n",
        "\n",
        "TRAINING_CATS_DIR = os.path.join(TRAINING_DIR, \"cats/\")\n",
        "TESTING_CATS_DIR = os.path.join(TESTING_DIR, \"cats/\")\n",
        "\n",
        "TRAINING_DOGS_DIR = os.path.join(TRAINING_DIR, \"dogs/\")\n",
        "TESTING_DOGS_DIR = os.path.join(TESTING_DIR, \"dogs/\")\n",
        "\n",
        "# Empty directories in case you run this cell multiple times\n",
        "if len(os.listdir(TRAINING_CATS_DIR)) > 0:\n",
        "  for file in os.scandir(TRAINING_CATS_DIR):\n",
        "    os.remove(file.path)\n",
        "if len(os.listdir(TRAINING_DOGS_DIR)) > 0:\n",
        "  for file in os.scandir(TRAINING_DOGS_DIR):\n",
        "    os.remove(file.path)\n",
        "if len(os.listdir(TESTING_CATS_DIR)) > 0:\n",
        "  for file in os.scandir(TESTING_CATS_DIR):\n",
        "    os.remove(file.path)\n",
        "if len(os.listdir(TESTING_DOGS_DIR)) > 0:\n",
        "  for file in os.scandir(TESTING_DOGS_DIR):\n",
        "    os.remove(file.path)\n",
        "\n",
        "# Define proportion of images used for training\n",
        "split_size = .9\n",
        "\n",
        "# Run the function\n",
        "# NOTE: Messages about zero length images should be printed out\n",
        "split_data(CAT_SOURCE_DIR, TRAINING_CATS_DIR, TESTING_CATS_DIR, split_size)\n",
        "split_data(DOG_SOURCE_DIR, TRAINING_DOGS_DIR, TESTING_DOGS_DIR, split_size)\n",
        "\n",
        "# Check that the number of images matches the expected output\n",
        "print(f\"\\n\\nThere are {len(os.listdir(TRAINING_CATS_DIR))} images of cats for training\")\n",
        "print(f\"There are {len(os.listdir(TRAINING_DOGS_DIR))} images of dogs for training\")\n",
        "print(f\"There are {len(os.listdir(TESTING_CATS_DIR))} images of cats for testing\")\n",
        "print(f\"There are {len(os.listdir(TESTING_DOGS_DIR))} images of dogs for testing\")"
      ]
    },
    {
      "cell_type": "markdown",
      "metadata": {
        "id": "hvskJNOFVSaz"
      },
      "source": [
        "**Expected Output:**\n",
        "\n",
        "```\n",
        "666.jpg is zero length, so ignoring.\n",
        "11702.jpg is zero length, so ignoring.\n",
        "```\n",
        "\n",
        "```\n",
        "There are 11250 images of cats for training\n",
        "There are 11250 images of dogs for training\n",
        "There are 1250 images of cats for testing\n",
        "There are 1250 images of dogs for testing\n",
        "```"
      ]
    },
    {
      "cell_type": "markdown",
      "metadata": {
        "id": "Zil4QmOD_mXF"
      },
      "source": [
        "Now that you have successfully organized the data in a way that can be easily fed to Keras' `ImageDataGenerator`, it is time for you to code the generators that will yield batches of images, both for training and validation. For this, complete the `train_val_generators` function below.\n",
        "\n",
        "Something important to note is that the images in this dataset come in a variety of resolutions. Luckily, the `flow_from_directory` method allows you to standarize this by defining a tuple called `target_size` that will be used to convert each image to this target resolution. **For this exercise use a `target_size` of (150, 150)**.\n",
        "\n",
        "**Note:** So far, you have seen the term `testing` being used a lot for referring to a subset of images within the dataset. In this exercise, all of the `testing` data is actually being used as `validation` data. This is not very important within the context of the task at hand but it is worth mentioning to avoid confusion."
      ]
    },
    {
      "cell_type": "code",
      "execution_count": 10,
      "metadata": {
        "cellView": "code",
        "id": "fQrZfVgz4j2g"
      },
      "outputs": [],
      "source": [
        "# GRADED FUNCTION: train_val_generators\n",
        "def train_val_generators(TRAINING_DIR, VALIDATION_DIR):\n",
        "  ### START CODE HERE\n",
        "\n",
        "  # Instantiate the ImageDataGenerator class (don't forget to set the arguments to augment the images)\n",
        "  train_datagen = ImageDataGenerator(rescale=1/255.0,\n",
        "                                     rotation_range=40,\n",
        "                                     width_shift_range=0.2,\n",
        "                                     height_shift_range=0.2,\n",
        "                                     shear_range=0.2,\n",
        "                                     zoom_range=0.2,\n",
        "                                     horizontal_flip=True,\n",
        "                                     fill_mode=\"nearest\")\n",
        "\n",
        "  # Pass in the appropriate arguments to the flow_from_directory method\n",
        "  train_generator = train_datagen.flow_from_directory(directory=TRAINING_DIR,\n",
        "                                                      batch_size=20,\n",
        "                                                      class_mode=\"binary\",\n",
        "                                                      target_size=(150, 150))\n",
        "\n",
        "  # Instantiate the ImageDataGenerator class (don't forget to set the rescale argument)\n",
        "  validation_datagen = ImageDataGenerator(rescale=1/255.0)\n",
        "\n",
        "  # Pass in the appropriate arguments to the flow_from_directory method\n",
        "  validation_generator = validation_datagen.flow_from_directory(directory=VALIDATION_DIR,\n",
        "                                                                batch_size=20,\n",
        "                                                                class_mode=\"binary\",\n",
        "                                                                target_size=(150, 150))\n",
        "  ### END CODE HERE\n",
        "  return train_generator, validation_generator\n"
      ]
    },
    {
      "cell_type": "code",
      "execution_count": 11,
      "metadata": {
        "id": "qM7FxrjGiobD",
        "colab": {
          "base_uri": "https://localhost:8080/"
        },
        "outputId": "a438aa95-beb7-496c-a4f0-e242812d6e97"
      },
      "outputs": [
        {
          "output_type": "stream",
          "name": "stdout",
          "text": [
            "Found 22499 images belonging to 2 classes.\n",
            "Found 2499 images belonging to 2 classes.\n"
          ]
        }
      ],
      "source": [
        "# Test your generators\n",
        "train_generator, validation_generator = train_val_generators(TRAINING_DIR, TESTING_DIR)"
      ]
    },
    {
      "cell_type": "markdown",
      "metadata": {
        "id": "tiPNmSfZjHwJ"
      },
      "source": [
        "**Expected Output:**\n",
        "\n",
        "```\n",
        "Found 22498 images belonging to 2 classes.\n",
        "Found 2500 images belonging to 2 classes.\n",
        "```\n"
      ]
    },
    {
      "cell_type": "markdown",
      "metadata": {
        "id": "TI3oEmyQCZoO"
      },
      "source": [
        "One last step before training is to define the architecture of the model that will be trained.\n",
        "\n",
        "Complete the `create_model` function below which should return a Keras' `Sequential` model.\n",
        "\n",
        "Aside from defining the architecture of the model, you should also compile it so make sure to use a `loss` function that is compatible with the `class_mode` you defined in the previous exercise, which should also be compatible with the output of your network. You can tell if they aren't compatible if you get an error during training.\n",
        "\n",
        "**Note that you should use at least 3 convolution layers to achieve the desired performance.**"
      ]
    },
    {
      "cell_type": "code",
      "execution_count": 16,
      "metadata": {
        "cellView": "code",
        "id": "oDPK8tUB_O9e",
        "lines_to_next_cell": 2
      },
      "outputs": [],
      "source": [
        "# GRADED FUNCTION: create_model\n",
        "def create_model():\n",
        "  # DEFINE A KERAS MODEL TO CLASSIFY CATS V DOGS\n",
        "  # USE AT LEAST 3 CONVOLUTION LAYERS\n",
        "\n",
        "  ### START CODE HERE\n",
        "  model = tf.keras.models.Sequential([ \n",
        "      tf.keras.layers.Conv2D(32,(3,3),activation=\"relu\",input_shape=(150,150,3)),\n",
        "      tf.keras.layers.MaxPooling2D(2,2),\n",
        "      tf.keras.layers.Conv2D(64,(3,3),activation=\"relu\"),\n",
        "      tf.keras.layers.MaxPooling2D(2,2),\n",
        "      tf.keras.layers.Conv2D(128,(3,3),activation=\"relu\"),\n",
        "      tf.keras.layers.MaxPooling2D(2,2),\n",
        "      tf.keras.layers.Conv2D(128,(3,3),activation=\"relu\"),\n",
        "      tf.keras.layers.MaxPooling2D(2,2),\n",
        "      tf.keras.layers.Dropout(0.3),\n",
        "      tf.keras.layers.Flatten(),\n",
        "      tf.keras.layers.Dense(512,activation=\"relu\"),\n",
        "      tf.keras.layers.Dense(1,activation=\"sigmoid\")\n",
        "  ])\n",
        "  \n",
        "  model.compile(optimizer=tf.optimizers.RMSprop(lr=0.0001),\n",
        "                loss=\"binary_crossentropy\",\n",
        "                metrics=['accuracy']) \n",
        "    \n",
        "  ### END CODE HERE\n",
        "\n",
        "  return model\n"
      ]
    },
    {
      "cell_type": "markdown",
      "metadata": {
        "id": "SMFNJZmTCZv6"
      },
      "source": [
        "Now it is time to train your model!\n",
        "\n",
        "Note: You can ignore the `UserWarning: Possibly corrupt EXIF data.` warnings."
      ]
    },
    {
      "cell_type": "code",
      "execution_count": 20,
      "metadata": {
        "id": "5qE1G6JB4fMn",
        "colab": {
          "base_uri": "https://localhost:8080/"
        },
        "outputId": "984e8ffd-48e4-4122-8800-656ad09db182"
      },
      "outputs": [
        {
          "output_type": "stream",
          "name": "stdout",
          "text": [
            "Epoch 1/100\n"
          ]
        },
        {
          "output_type": "stream",
          "name": "stderr",
          "text": [
            "/usr/local/lib/python3.7/dist-packages/keras/optimizer_v2/rmsprop.py:130: UserWarning: The `lr` argument is deprecated, use `learning_rate` instead.\n",
            "  super(RMSprop, self).__init__(name, **kwargs)\n"
          ]
        },
        {
          "output_type": "stream",
          "name": "stdout",
          "text": [
            "100/100 [==============================] - 18s 176ms/step - loss: 0.6948 - accuracy: 0.5220 - val_loss: 0.6858 - val_accuracy: 0.5760\n",
            "Epoch 2/100\n",
            "100/100 [==============================] - 17s 173ms/step - loss: 0.6876 - accuracy: 0.5470 - val_loss: 0.6764 - val_accuracy: 0.5290\n",
            "Epoch 3/100\n",
            "100/100 [==============================] - 17s 173ms/step - loss: 0.6777 - accuracy: 0.5705 - val_loss: 0.6745 - val_accuracy: 0.5590\n",
            "Epoch 4/100\n",
            "100/100 [==============================] - 17s 175ms/step - loss: 0.6608 - accuracy: 0.6128 - val_loss: 0.6326 - val_accuracy: 0.6540\n",
            "Epoch 5/100\n",
            "100/100 [==============================] - 18s 175ms/step - loss: 0.6485 - accuracy: 0.6205 - val_loss: 0.7341 - val_accuracy: 0.5360\n",
            "Epoch 6/100\n",
            "100/100 [==============================] - 17s 174ms/step - loss: 0.6612 - accuracy: 0.6075 - val_loss: 0.6280 - val_accuracy: 0.6560\n",
            "Epoch 7/100\n",
            "100/100 [==============================] - 20s 197ms/step - loss: 0.6514 - accuracy: 0.6120 - val_loss: 0.6533 - val_accuracy: 0.6090\n",
            "Epoch 8/100\n",
            " 40/100 [===========>..................] - ETA: 8s - loss: 0.6547 - accuracy: 0.6200"
          ]
        },
        {
          "output_type": "stream",
          "name": "stderr",
          "text": [
            "/usr/local/lib/python3.7/dist-packages/PIL/TiffImagePlugin.py:770: UserWarning: Possibly corrupt EXIF data.  Expecting to read 32 bytes but only got 0. Skipping tag 270\n",
            "  \" Skipping tag %s\" % (size, len(data), tag)\n",
            "/usr/local/lib/python3.7/dist-packages/PIL/TiffImagePlugin.py:770: UserWarning: Possibly corrupt EXIF data.  Expecting to read 5 bytes but only got 0. Skipping tag 271\n",
            "  \" Skipping tag %s\" % (size, len(data), tag)\n",
            "/usr/local/lib/python3.7/dist-packages/PIL/TiffImagePlugin.py:770: UserWarning: Possibly corrupt EXIF data.  Expecting to read 8 bytes but only got 0. Skipping tag 272\n",
            "  \" Skipping tag %s\" % (size, len(data), tag)\n",
            "/usr/local/lib/python3.7/dist-packages/PIL/TiffImagePlugin.py:770: UserWarning: Possibly corrupt EXIF data.  Expecting to read 8 bytes but only got 0. Skipping tag 282\n",
            "  \" Skipping tag %s\" % (size, len(data), tag)\n",
            "/usr/local/lib/python3.7/dist-packages/PIL/TiffImagePlugin.py:770: UserWarning: Possibly corrupt EXIF data.  Expecting to read 8 bytes but only got 0. Skipping tag 283\n",
            "  \" Skipping tag %s\" % (size, len(data), tag)\n",
            "/usr/local/lib/python3.7/dist-packages/PIL/TiffImagePlugin.py:770: UserWarning: Possibly corrupt EXIF data.  Expecting to read 20 bytes but only got 0. Skipping tag 306\n",
            "  \" Skipping tag %s\" % (size, len(data), tag)\n",
            "/usr/local/lib/python3.7/dist-packages/PIL/TiffImagePlugin.py:770: UserWarning: Possibly corrupt EXIF data.  Expecting to read 48 bytes but only got 0. Skipping tag 532\n",
            "  \" Skipping tag %s\" % (size, len(data), tag)\n",
            "/usr/local/lib/python3.7/dist-packages/PIL/TiffImagePlugin.py:788: UserWarning: Corrupt EXIF data.  Expecting to read 2 bytes but only got 0. \n",
            "  warnings.warn(str(msg))\n"
          ]
        },
        {
          "output_type": "stream",
          "name": "stdout",
          "text": [
            "100/100 [==============================] - 17s 174ms/step - loss: 0.6417 - accuracy: 0.6245 - val_loss: 0.6464 - val_accuracy: 0.6060\n",
            "Epoch 9/100\n",
            "100/100 [==============================] - 17s 174ms/step - loss: 0.6357 - accuracy: 0.6440 - val_loss: 0.6570 - val_accuracy: 0.6030\n",
            "Epoch 10/100\n",
            "100/100 [==============================] - 17s 173ms/step - loss: 0.6312 - accuracy: 0.6515 - val_loss: 0.5849 - val_accuracy: 0.6910\n",
            "Epoch 11/100\n",
            "100/100 [==============================] - 17s 173ms/step - loss: 0.6231 - accuracy: 0.6475 - val_loss: 0.5577 - val_accuracy: 0.7010\n",
            "Epoch 12/100\n",
            "100/100 [==============================] - 17s 172ms/step - loss: 0.6207 - accuracy: 0.6565 - val_loss: 0.5806 - val_accuracy: 0.6730\n",
            "Epoch 13/100\n",
            "100/100 [==============================] - 17s 173ms/step - loss: 0.6063 - accuracy: 0.6680 - val_loss: 0.5502 - val_accuracy: 0.7210\n",
            "Epoch 14/100\n",
            "100/100 [==============================] - 17s 174ms/step - loss: 0.5979 - accuracy: 0.6755 - val_loss: 0.5503 - val_accuracy: 0.7110\n",
            "Epoch 15/100\n",
            "100/100 [==============================] - 17s 174ms/step - loss: 0.5976 - accuracy: 0.6690 - val_loss: 0.5322 - val_accuracy: 0.7310\n",
            "Epoch 16/100\n",
            "100/100 [==============================] - 17s 172ms/step - loss: 0.5989 - accuracy: 0.6835 - val_loss: 0.5430 - val_accuracy: 0.7100\n",
            "Epoch 17/100\n",
            "100/100 [==============================] - 17s 172ms/step - loss: 0.5840 - accuracy: 0.6903 - val_loss: 0.5728 - val_accuracy: 0.6890\n",
            "Epoch 18/100\n",
            "100/100 [==============================] - 20s 197ms/step - loss: 0.5983 - accuracy: 0.6740 - val_loss: 0.5297 - val_accuracy: 0.7360\n",
            "Epoch 19/100\n",
            "100/100 [==============================] - 17s 174ms/step - loss: 0.5751 - accuracy: 0.7050 - val_loss: 0.5362 - val_accuracy: 0.7170\n",
            "Epoch 20/100\n",
            "100/100 [==============================] - 20s 196ms/step - loss: 0.5742 - accuracy: 0.7050 - val_loss: 0.5351 - val_accuracy: 0.7110\n",
            "Epoch 21/100\n",
            "100/100 [==============================] - 17s 173ms/step - loss: 0.5733 - accuracy: 0.7115 - val_loss: 0.5086 - val_accuracy: 0.7560\n",
            "Epoch 22/100\n",
            "100/100 [==============================] - 17s 175ms/step - loss: 0.5826 - accuracy: 0.6850 - val_loss: 0.5598 - val_accuracy: 0.7080\n",
            "Epoch 23/100\n",
            "100/100 [==============================] - 17s 175ms/step - loss: 0.5655 - accuracy: 0.7040 - val_loss: 0.4966 - val_accuracy: 0.7650\n",
            "Epoch 24/100\n",
            "100/100 [==============================] - 17s 174ms/step - loss: 0.5754 - accuracy: 0.7090 - val_loss: 0.5056 - val_accuracy: 0.7640\n",
            "Epoch 25/100\n",
            "100/100 [==============================] - 20s 197ms/step - loss: 0.5776 - accuracy: 0.6910 - val_loss: 0.5036 - val_accuracy: 0.7440\n",
            "Epoch 26/100\n",
            "100/100 [==============================] - 20s 198ms/step - loss: 0.5482 - accuracy: 0.7085 - val_loss: 0.5438 - val_accuracy: 0.7100\n",
            "Epoch 27/100\n",
            "100/100 [==============================] - 17s 173ms/step - loss: 0.5555 - accuracy: 0.7090 - val_loss: 0.4863 - val_accuracy: 0.7600\n",
            "Epoch 28/100\n",
            "100/100 [==============================] - 17s 172ms/step - loss: 0.5458 - accuracy: 0.7245 - val_loss: 0.4459 - val_accuracy: 0.7910\n",
            "Epoch 29/100\n",
            "100/100 [==============================] - 17s 174ms/step - loss: 0.5537 - accuracy: 0.7105 - val_loss: 0.5247 - val_accuracy: 0.7280\n",
            "Epoch 30/100\n",
            "100/100 [==============================] - 17s 173ms/step - loss: 0.5565 - accuracy: 0.7084 - val_loss: 0.4932 - val_accuracy: 0.7650\n",
            "Epoch 31/100\n",
            "100/100 [==============================] - 17s 174ms/step - loss: 0.5431 - accuracy: 0.7270 - val_loss: 0.5197 - val_accuracy: 0.7330\n",
            "Epoch 32/100\n",
            "100/100 [==============================] - 17s 173ms/step - loss: 0.5544 - accuracy: 0.7195 - val_loss: 0.4767 - val_accuracy: 0.7770\n",
            "Epoch 33/100\n",
            "100/100 [==============================] - 17s 174ms/step - loss: 0.5359 - accuracy: 0.7290 - val_loss: 0.4717 - val_accuracy: 0.7920\n",
            "Epoch 34/100\n",
            "100/100 [==============================] - 20s 196ms/step - loss: 0.5480 - accuracy: 0.7085 - val_loss: 0.4868 - val_accuracy: 0.7540\n",
            "Epoch 35/100\n",
            "100/100 [==============================] - 17s 174ms/step - loss: 0.5057 - accuracy: 0.7475 - val_loss: 0.4432 - val_accuracy: 0.8060\n",
            "Epoch 36/100\n",
            "100/100 [==============================] - 17s 174ms/step - loss: 0.5266 - accuracy: 0.7405 - val_loss: 0.4955 - val_accuracy: 0.7550\n",
            "Epoch 37/100\n",
            "100/100 [==============================] - 17s 174ms/step - loss: 0.5411 - accuracy: 0.7280 - val_loss: 0.4903 - val_accuracy: 0.7640\n",
            "Epoch 38/100\n",
            "100/100 [==============================] - 17s 174ms/step - loss: 0.5441 - accuracy: 0.7180 - val_loss: 0.4696 - val_accuracy: 0.7770\n",
            "Epoch 39/100\n",
            "100/100 [==============================] - 18s 175ms/step - loss: 0.5115 - accuracy: 0.7455 - val_loss: 0.4622 - val_accuracy: 0.7860\n",
            "Epoch 40/100\n",
            "100/100 [==============================] - 17s 174ms/step - loss: 0.5210 - accuracy: 0.7415 - val_loss: 0.4860 - val_accuracy: 0.7660\n",
            "Epoch 41/100\n",
            "100/100 [==============================] - 17s 174ms/step - loss: 0.5392 - accuracy: 0.7375 - val_loss: 0.5091 - val_accuracy: 0.7460\n",
            "Epoch 42/100\n",
            "100/100 [==============================] - 17s 174ms/step - loss: 0.5108 - accuracy: 0.7465 - val_loss: 0.6204 - val_accuracy: 0.6920\n",
            "Epoch 43/100\n",
            "100/100 [==============================] - 18s 175ms/step - loss: 0.5300 - accuracy: 0.7380 - val_loss: 0.4923 - val_accuracy: 0.7490\n",
            "Epoch 44/100\n",
            "100/100 [==============================] - 20s 196ms/step - loss: 0.5132 - accuracy: 0.7460 - val_loss: 0.4977 - val_accuracy: 0.7590\n",
            "Epoch 45/100\n",
            "100/100 [==============================] - 17s 173ms/step - loss: 0.5198 - accuracy: 0.7370 - val_loss: 0.4290 - val_accuracy: 0.7950\n",
            "Epoch 46/100\n",
            "100/100 [==============================] - 17s 175ms/step - loss: 0.5067 - accuracy: 0.7565 - val_loss: 0.4207 - val_accuracy: 0.7920\n",
            "Epoch 47/100\n",
            "100/100 [==============================] - 17s 173ms/step - loss: 0.5183 - accuracy: 0.7415 - val_loss: 0.4292 - val_accuracy: 0.7980\n",
            "Epoch 48/100\n",
            "100/100 [==============================] - 17s 174ms/step - loss: 0.5213 - accuracy: 0.7315 - val_loss: 0.4460 - val_accuracy: 0.8040\n",
            "Epoch 49/100\n",
            "100/100 [==============================] - 17s 173ms/step - loss: 0.5231 - accuracy: 0.7549 - val_loss: 0.4244 - val_accuracy: 0.8010\n",
            "Epoch 50/100\n",
            "100/100 [==============================] - 17s 172ms/step - loss: 0.5158 - accuracy: 0.7485 - val_loss: 0.4979 - val_accuracy: 0.7340\n",
            "Epoch 51/100\n",
            "100/100 [==============================] - 17s 173ms/step - loss: 0.4938 - accuracy: 0.7555 - val_loss: 0.4429 - val_accuracy: 0.8050\n",
            "Epoch 52/100\n",
            "100/100 [==============================] - 17s 173ms/step - loss: 0.5038 - accuracy: 0.7545 - val_loss: 0.4112 - val_accuracy: 0.8360\n",
            "Epoch 53/100\n",
            "100/100 [==============================] - 17s 173ms/step - loss: 0.5203 - accuracy: 0.7470 - val_loss: 0.4291 - val_accuracy: 0.8090\n",
            "Epoch 54/100\n",
            "100/100 [==============================] - 17s 173ms/step - loss: 0.4790 - accuracy: 0.7765 - val_loss: 0.4220 - val_accuracy: 0.8150\n",
            "Epoch 55/100\n",
            "100/100 [==============================] - 17s 174ms/step - loss: 0.4849 - accuracy: 0.7685 - val_loss: 0.4291 - val_accuracy: 0.8040\n",
            "Epoch 56/100\n",
            "100/100 [==============================] - 17s 173ms/step - loss: 0.4920 - accuracy: 0.7585 - val_loss: 0.4114 - val_accuracy: 0.8230\n",
            "Epoch 57/100\n",
            "100/100 [==============================] - 17s 173ms/step - loss: 0.5025 - accuracy: 0.7520 - val_loss: 0.4634 - val_accuracy: 0.7780\n",
            "Epoch 58/100\n",
            "100/100 [==============================] - 17s 174ms/step - loss: 0.5028 - accuracy: 0.7560 - val_loss: 0.4139 - val_accuracy: 0.8080\n",
            "Epoch 59/100\n",
            "100/100 [==============================] - 17s 173ms/step - loss: 0.4850 - accuracy: 0.7685 - val_loss: 0.4880 - val_accuracy: 0.7470\n",
            "Epoch 60/100\n",
            "100/100 [==============================] - 17s 172ms/step - loss: 0.4965 - accuracy: 0.7625 - val_loss: 0.5063 - val_accuracy: 0.7570\n",
            "Epoch 61/100\n",
            "100/100 [==============================] - 18s 175ms/step - loss: 0.4928 - accuracy: 0.7600 - val_loss: 0.4775 - val_accuracy: 0.7820\n",
            "Epoch 62/100\n",
            "100/100 [==============================] - 17s 174ms/step - loss: 0.4912 - accuracy: 0.7624 - val_loss: 0.3952 - val_accuracy: 0.8350\n",
            "Epoch 63/100\n",
            "100/100 [==============================] - 17s 174ms/step - loss: 0.4593 - accuracy: 0.7820 - val_loss: 0.4133 - val_accuracy: 0.8130\n",
            "Epoch 64/100\n",
            "100/100 [==============================] - 17s 175ms/step - loss: 0.4794 - accuracy: 0.7780 - val_loss: 0.3997 - val_accuracy: 0.8300\n",
            "Epoch 65/100\n",
            "100/100 [==============================] - 17s 173ms/step - loss: 0.4969 - accuracy: 0.7540 - val_loss: 0.3979 - val_accuracy: 0.8160\n",
            "Epoch 66/100\n",
            "100/100 [==============================] - 20s 197ms/step - loss: 0.4936 - accuracy: 0.7610 - val_loss: 0.5198 - val_accuracy: 0.7390\n",
            "Epoch 67/100\n",
            "100/100 [==============================] - 17s 174ms/step - loss: 0.4868 - accuracy: 0.7530 - val_loss: 0.5445 - val_accuracy: 0.7450\n",
            "Epoch 68/100\n",
            "100/100 [==============================] - 17s 175ms/step - loss: 0.4874 - accuracy: 0.7655 - val_loss: 0.3885 - val_accuracy: 0.8360\n",
            "Epoch 69/100\n",
            "100/100 [==============================] - 18s 176ms/step - loss: 0.4749 - accuracy: 0.7775 - val_loss: 0.4438 - val_accuracy: 0.7930\n",
            "Epoch 70/100\n",
            "100/100 [==============================] - 18s 176ms/step - loss: 0.4749 - accuracy: 0.7775 - val_loss: 0.4996 - val_accuracy: 0.7450\n",
            "Epoch 71/100\n",
            "100/100 [==============================] - 17s 174ms/step - loss: 0.4748 - accuracy: 0.7765 - val_loss: 0.4027 - val_accuracy: 0.8260\n",
            "Epoch 72/100\n",
            "100/100 [==============================] - 17s 173ms/step - loss: 0.4613 - accuracy: 0.7815 - val_loss: 0.3841 - val_accuracy: 0.8300\n",
            "Epoch 73/100\n",
            "100/100 [==============================] - 17s 174ms/step - loss: 0.4607 - accuracy: 0.7795 - val_loss: 0.4205 - val_accuracy: 0.8030\n",
            "Epoch 74/100\n",
            "100/100 [==============================] - 17s 174ms/step - loss: 0.4720 - accuracy: 0.7775 - val_loss: 0.3837 - val_accuracy: 0.8530\n",
            "Epoch 75/100\n",
            "100/100 [==============================] - 17s 173ms/step - loss: 0.4601 - accuracy: 0.7840 - val_loss: 0.3813 - val_accuracy: 0.8420\n",
            "Epoch 76/100\n",
            "100/100 [==============================] - 17s 175ms/step - loss: 0.4816 - accuracy: 0.7815 - val_loss: 0.4704 - val_accuracy: 0.7930\n",
            "Epoch 77/100\n",
            "100/100 [==============================] - 18s 175ms/step - loss: 0.4666 - accuracy: 0.7814 - val_loss: 0.3966 - val_accuracy: 0.8220\n",
            "Epoch 78/100\n",
            "100/100 [==============================] - 17s 173ms/step - loss: 0.4767 - accuracy: 0.7650 - val_loss: 0.4611 - val_accuracy: 0.7730\n",
            "Epoch 79/100\n",
            "100/100 [==============================] - 17s 175ms/step - loss: 0.4528 - accuracy: 0.7945 - val_loss: 0.3853 - val_accuracy: 0.8280\n",
            "Epoch 80/100\n",
            "100/100 [==============================] - 17s 174ms/step - loss: 0.4637 - accuracy: 0.7734 - val_loss: 0.4105 - val_accuracy: 0.8070\n",
            "Epoch 81/100\n",
            "100/100 [==============================] - 17s 174ms/step - loss: 0.4614 - accuracy: 0.7905 - val_loss: 0.3641 - val_accuracy: 0.8490\n",
            "Epoch 82/100\n",
            "100/100 [==============================] - 17s 174ms/step - loss: 0.4665 - accuracy: 0.7815 - val_loss: 0.4361 - val_accuracy: 0.7780\n",
            "Epoch 83/100\n",
            "100/100 [==============================] - 17s 173ms/step - loss: 0.4579 - accuracy: 0.7890 - val_loss: 0.3777 - val_accuracy: 0.8390\n",
            "Epoch 84/100\n",
            "100/100 [==============================] - 17s 174ms/step - loss: 0.4786 - accuracy: 0.7685 - val_loss: 0.3639 - val_accuracy: 0.8420\n",
            "Epoch 85/100\n",
            "100/100 [==============================] - 18s 176ms/step - loss: 0.4646 - accuracy: 0.7830 - val_loss: 0.3723 - val_accuracy: 0.8400\n",
            "Epoch 86/100\n",
            "100/100 [==============================] - 20s 198ms/step - loss: 0.4457 - accuracy: 0.7965 - val_loss: 0.4444 - val_accuracy: 0.7990\n",
            "Epoch 87/100\n",
            "100/100 [==============================] - 17s 172ms/step - loss: 0.4406 - accuracy: 0.8020 - val_loss: 0.3809 - val_accuracy: 0.8390\n",
            "Epoch 88/100\n",
            "100/100 [==============================] - 17s 173ms/step - loss: 0.4298 - accuracy: 0.8000 - val_loss: 0.3745 - val_accuracy: 0.8310\n",
            "Epoch 89/100\n",
            "100/100 [==============================] - 17s 172ms/step - loss: 0.4541 - accuracy: 0.7880 - val_loss: 0.4176 - val_accuracy: 0.8010\n",
            "Epoch 90/100\n",
            "100/100 [==============================] - 18s 175ms/step - loss: 0.4481 - accuracy: 0.7930 - val_loss: 0.3642 - val_accuracy: 0.8310\n",
            "Epoch 91/100\n",
            "100/100 [==============================] - 17s 173ms/step - loss: 0.4555 - accuracy: 0.7830 - val_loss: 0.4822 - val_accuracy: 0.7460\n",
            "Epoch 92/100\n",
            "100/100 [==============================] - 17s 175ms/step - loss: 0.4465 - accuracy: 0.7870 - val_loss: 0.4325 - val_accuracy: 0.8170\n",
            "Epoch 93/100\n",
            "100/100 [==============================] - 17s 175ms/step - loss: 0.4523 - accuracy: 0.7900 - val_loss: 0.3844 - val_accuracy: 0.8320\n",
            "Epoch 94/100\n",
            "100/100 [==============================] - 17s 173ms/step - loss: 0.4368 - accuracy: 0.7960 - val_loss: 0.3622 - val_accuracy: 0.8410\n",
            "Epoch 95/100\n",
            "100/100 [==============================] - 18s 176ms/step - loss: 0.4595 - accuracy: 0.7830 - val_loss: 0.5192 - val_accuracy: 0.7310\n",
            "Epoch 96/100\n",
            "100/100 [==============================] - 17s 174ms/step - loss: 0.4422 - accuracy: 0.7914 - val_loss: 0.3533 - val_accuracy: 0.8530\n",
            "Epoch 97/100\n",
            "100/100 [==============================] - 17s 175ms/step - loss: 0.4401 - accuracy: 0.7965 - val_loss: 0.4246 - val_accuracy: 0.8230\n",
            "Epoch 98/100\n",
            "100/100 [==============================] - 17s 174ms/step - loss: 0.4313 - accuracy: 0.7985 - val_loss: 0.4120 - val_accuracy: 0.8100\n",
            "Epoch 99/100\n",
            "100/100 [==============================] - 17s 175ms/step - loss: 0.4342 - accuracy: 0.7930 - val_loss: 0.3654 - val_accuracy: 0.8440\n",
            "Epoch 100/100\n",
            "100/100 [==============================] - 17s 174ms/step - loss: 0.4217 - accuracy: 0.8095 - val_loss: 0.3538 - val_accuracy: 0.8380\n"
          ]
        }
      ],
      "source": [
        "# Get the untrained model\n",
        "model = create_model()\n",
        "\n",
        "# Train the model\n",
        "# Note that this may take some time.\n",
        "history = model.fit(train_generator,\n",
        "                    epochs=100,\n",
        "                    steps_per_epoch = 100,\n",
        "                    verbose=1,\n",
        "                    validation_data=validation_generator,\n",
        "                    validation_steps = 50)"
      ]
    },
    {
      "cell_type": "markdown",
      "metadata": {
        "id": "VGsaDMc-GMd4"
      },
      "source": [
        "Once training has finished, you can run the following cell to check the training and validation accuracy achieved at the end of each epoch.\n",
        "\n",
        "**To pass this assignment, your model should achieve a training and validation accuracy of at least 80% and the final testing accuracy should be either higher than the training one or have a 5% difference at maximum**. If your model didn't achieve these thresholds, try training again with a different model architecture, remember to use at least 3 convolutional layers or try tweaking the image augmentation process.\n",
        "\n",
        "You might wonder why the training threshold to pass this assignment is significantly lower compared to last week's assignment. Image augmentation does help with overfitting but usually this comes at the expense of requiring more training time. To keep the training time reasonable, the same number of epochs as in the previous assignment are kept. \n",
        "\n",
        "However, as an optional exercise you are encouraged to try training for more epochs and to achieve really good training and validation accuracies."
      ]
    },
    {
      "cell_type": "code",
      "execution_count": 21,
      "metadata": {
        "id": "MWZrJN4-65RC",
        "colab": {
          "base_uri": "https://localhost:8080/",
          "height": 546
        },
        "outputId": "7f57c333-9a9b-4139-d582-fcea5911fb8e"
      },
      "outputs": [
        {
          "output_type": "display_data",
          "data": {
            "text/plain": [
              "<Figure size 432x288 with 1 Axes>"
            ],
            "image/png": "[encoded data removed]"
          },
          "metadata": {
            "needs_background": "light"
          }
        },
        {
          "output_type": "stream",
          "name": "stdout",
          "text": [
            "\n"
          ]
        },
        {
          "output_type": "display_data",
          "data": {
            "text/plain": [
              "<Figure size 432x288 with 1 Axes>"
            ],
            "image/png": "[encoded data removed]"
          },
          "metadata": {
            "needs_background": "light"
          }
        }
      ],
      "source": [
        "#-----------------------------------------------------------\n",
        "# Retrieve a list of list results on training and test data\n",
        "# sets for each training epoch\n",
        "#-----------------------------------------------------------\n",
        "acc=history.history['accuracy']\n",
        "val_acc=history.history['val_accuracy']\n",
        "loss=history.history['loss']\n",
        "val_loss=history.history['val_loss']\n",
        "\n",
        "epochs=range(len(acc)) # Get number of epochs\n",
        "\n",
        "#------------------------------------------------\n",
        "# Plot training and validation accuracy per epoch\n",
        "#------------------------------------------------\n",
        "plt.plot(epochs, acc, 'r', \"Training Accuracy\")\n",
        "plt.plot(epochs, val_acc, 'b', \"Validation Accuracy\")\n",
        "plt.title('Training and validation accuracy')\n",
        "plt.show()\n",
        "print(\"\")\n",
        "\n",
        "#------------------------------------------------\n",
        "# Plot training and validation loss per epoch\n",
        "#------------------------------------------------\n",
        "plt.plot(epochs, loss, 'r', \"Training Loss\")\n",
        "plt.plot(epochs, val_loss, 'b', \"Validation Loss\")\n",
        "plt.show()"
      ]
    },
    {
      "cell_type": "markdown",
      "metadata": {
        "id": "NYIaqsN2pav6"
      },
      "source": [
        "You will probably encounter that the model is overfitting, which means that it is doing a great job at classifying the images in the training set but struggles with new data. This is perfectly fine and you will learn how to mitigate this issue in the upcomming week.\n",
        "\n",
        "Before closing the assignment, be sure to also download the `history.pkl` file which contains the information of the training history of your model. You can download this file by running the cell below:"
      ]
    },
    {
      "cell_type": "code",
      "execution_count": 22,
      "metadata": {
        "id": "yWcrc9nZTsHj",
        "colab": {
          "base_uri": "https://localhost:8080/",
          "height": 17
        },
        "outputId": "ae0d7249-10cb-4360-d514-b55022980137"
      },
      "outputs": [
        {
          "output_type": "display_data",
          "data": {
            "text/plain": [
              "<IPython.core.display.Javascript object>"
            ],
            "application/javascript": [
              "\n",
              "    async function download(id, filename, size) {\n",
              "      if (!google.colab.kernel.accessAllowed) {\n",
              "        return;\n",
              "      }\n",
              "      const div = document.createElement('div');\n",
              "      const label = document.createElement('label');\n",
              "      label.textContent = `Downloading \"${filename}\": `;\n",
              "      div.appendChild(label);\n",
              "      const progress = document.createElement('progress');\n",
              "      progress.max = size;\n",
              "      div.appendChild(progress);\n",
              "      document.body.appendChild(div);\n",
              "\n",
              "      const buffers = [];\n",
              "      let downloaded = 0;\n",
              "\n",
              "      const channel = await google.colab.kernel.comms.open(id);\n",
              "      // Send a message to notify the kernel that we're ready.\n",
              "      channel.send({})\n",
              "\n",
              "      for await (const message of channel.messages) {\n",
              "        // Send a message to notify the kernel that we're ready.\n",
              "        channel.send({})\n",
              "        if (message.buffers) {\n",
              "          for (const buffer of message.buffers) {\n",
              "            buffers.push(buffer);\n",
              "            downloaded += buffer.byteLength;\n",
              "            progress.value = downloaded;\n",
              "          }\n",
              "        }\n",
              "      }\n",
              "      const blob = new Blob(buffers, {type: 'application/binary'});\n",
              "      const a = document.createElement('a');\n",
              "      a.href = window.URL.createObjectURL(blob);\n",
              "      a.download = filename;\n",
              "      div.appendChild(a);\n",
              "      a.click();\n",
              "      div.remove();\n",
              "    }\n",
              "  "
            ]
          },
          "metadata": {}
        },
        {
          "output_type": "display_data",
          "data": {
            "text/plain": [
              "<IPython.core.display.Javascript object>"
            ],
            "application/javascript": [
              "download(\"download_1115d442-f300-4647-be71-d7a99f7f0776\", \"history_augmented.pkl\", 3688)"
            ]
          },
          "metadata": {}
        }
      ],
      "source": [
        "def download_history():\n",
        "  import pickle\n",
        "  from google.colab import files\n",
        "\n",
        "  with open('history_augmented.pkl', 'wb') as f:\n",
        "    pickle.dump(history.history, f)\n",
        "\n",
        "  files.download('history_augmented.pkl')\n",
        "\n",
        "download_history()"
      ]
    },
    {
      "cell_type": "markdown",
      "metadata": {
        "id": "yEj7UVe0OgMq"
      },
      "source": [
        "You will also need to submit this notebook for grading. To download it, click on the `File` tab in the upper left corner of the screen then click on `Download` -> `Download .ipynb`. You can name it anything you want as long as it is a valid `.ipynb` (jupyter notebook) file."
      ]
    },
    {
      "cell_type": "markdown",
      "metadata": {
        "id": "joAaZSWWpbOI"
      },
      "source": [
        "**Congratulations on finishing this week's assignment!**\n",
        "\n",
        "You have successfully implemented a convolutional neural network that classifies images of cats and dogs, along with the helper functions needed to pre-process the images!\n",
        "\n",
        "**Keep it up!**"
      ]
    }
  ],
  "metadata": {
    "accelerator": "GPU",
    "kernelspec": {
      "display_name": "Python 3",
      "language": "python",
      "name": "python3"
    },
    "language_info": {
      "codemirror_mode": {
        "name": "ipython",
        "version": 3
      },
      "file_extension": ".py",
      "mimetype": "text/x-python",
      "name": "python",
      "nbconvert_exporter": "python",
      "pygments_lexer": "ipython3",
      "version": "3.7.4"
    },
    "colab": {
      "name": "Copy of C2W2_Assignment.ipynb",
      "provenance": [],
      "collapsed_sections": []
    }
  },
  "nbformat": 4,
  "nbformat_minor": 0
}